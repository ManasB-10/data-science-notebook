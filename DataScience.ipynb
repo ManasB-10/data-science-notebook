{
 "cells": [
  {
   "cell_type": "markdown",
   "id": "dbd4e815-2ace-4bab-a6f5-3ff39568a556",
   "metadata": {},
   "source": [
    "# Data Science Tools and Ecosystem"
   ]
  },
  {
   "cell_type": "markdown",
   "id": "5ff2d35d-37f3-4fc6-b787-58bdfbec7526",
   "metadata": {},
   "source": [
    "In this notebook, Data Science Tools and Ecosystem are summarized."
   ]
  },
  {
   "cell_type": "markdown",
   "id": "b9614395-403f-4ede-97ac-e52c9439c6a8",
   "metadata": {},
   "source": [
    "**Some of the popular languages that Data Scientists use are:**\n",
    "1. Python\n",
    "2. R\n",
    "3. SQL\n",
    "4. Julia\n",
    "5. Java"
   ]
  },
  {
   "cell_type": "markdown",
   "id": "699eacad-68d8-41e6-89da-2f8849e7eeb9",
   "metadata": {},
   "source": [
    "**Some of the commonly used libraries by Data Scientists include:**\n",
    "* Pandas\n",
    "* NumPy\n",
    "* Matplotlib\n",
    "* Scikit-learn\n",
    "* TensorFlow"
   ]
  },
  {
   "cell_type": "markdown",
   "id": "8e5e87e1-811c-498f-a414-01edb945e55b",
   "metadata": {},
   "source": [
    "| Data Science Tools |\n",
    "|--------------------|\n",
    "| Jupyter Notebook   |\n",
    "| RStudio            |\n",
    "| Apache Spark       |"
   ]
  },
  {
   "cell_type": "markdown",
   "id": "4cae3b7b-d9fe-441a-a862-7464b115f7b0",
   "metadata": {},
   "source": [
    "### Below are a few examples of evaluating arithmetic expressions in Python."
   ]
  },
  {
   "cell_type": "code",
   "execution_count": 1,
   "id": "404642cd-39b4-4fcd-93e5-cc6d38c39df6",
   "metadata": {},
   "outputs": [
    {
     "data": {
      "text/plain": [
       "30"
      ]
     },
     "execution_count": 1,
     "metadata": {},
     "output_type": "execute_result"
    }
   ],
   "source": [
    "# This a simple arithmetic expression to multiply then add integers.\n",
    "(5 * 4) + 10"
   ]
  },
  {
   "cell_type": "code",
   "execution_count": 2,
   "id": "54304e94-648e-42dd-a685-b89027b22bea",
   "metadata": {},
   "outputs": [
    {
     "data": {
      "text/plain": [
       "3.3333333333333335"
      ]
     },
     "execution_count": 2,
     "metadata": {},
     "output_type": "execute_result"
    }
   ],
   "source": [
    "# This will convert 200 minutes to hours by dividing by 60.\n",
    "200 / 60"
   ]
  },
  {
   "cell_type": "markdown",
   "id": "f23c9a64-e567-4248-9c74-ae289b212a58",
   "metadata": {},
   "source": [
    "**Objectives:**\n",
    "* List popular languages for Data Science.\n",
    "* List commonly used libraries in Data Science.\n",
    "* Create a table of Data Science tools.\n",
    "* Demonstrate basic arithmetic operations in Python."
   ]
  },
  {
   "cell_type": "markdown",
   "id": "477a5410-ed33-40fa-b62f-995cacd11e14",
   "metadata": {},
   "source": [
    "## Author\n",
    "Manas Beke"
   ]
  },
  {
   "cell_type": "code",
   "execution_count": null,
   "id": "49fe5f4c-87b9-4b6e-9598-6cbb29f02ddf",
   "metadata": {},
   "outputs": [],
   "source": []
  }
 ],
 "metadata": {
  "kernelspec": {
   "display_name": "Python [conda env:base] *",
   "language": "python",
   "name": "conda-base-py"
  },
  "language_info": {
   "codemirror_mode": {
    "name": "ipython",
    "version": 3
   },
   "file_extension": ".py",
   "mimetype": "text/x-python",
   "name": "python",
   "nbconvert_exporter": "python",
   "pygments_lexer": "ipython3",
   "version": "3.13.5"
  }
 },
 "nbformat": 4,
 "nbformat_minor": 5
}
